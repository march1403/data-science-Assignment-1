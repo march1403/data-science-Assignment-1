{
 "cells": [
  {
   "cell_type": "code",
   "execution_count": 2,
   "id": "73d4907a-3aaa-4802-bb9b-aca34ccb5736",
   "metadata": {},
   "outputs": [],
   "source": [
    "# question 1 "
   ]
  },
  {
   "cell_type": "code",
   "execution_count": 6,
   "id": "b4977563-492a-4d3e-bb2f-72b258c7869c",
   "metadata": {},
   "outputs": [
    {
     "data": {
      "text/plain": [
       "str"
      ]
     },
     "execution_count": 6,
     "metadata": {},
     "output_type": "execute_result"
    }
   ],
   "source": [
    "var1=\"Soumya\"\n",
    "type(var1)"
   ]
  },
  {
   "cell_type": "code",
   "execution_count": 7,
   "id": "59dd5746-8df4-4246-b895-d8285f963157",
   "metadata": {},
   "outputs": [
    {
     "data": {
      "text/plain": [
       "list"
      ]
     },
     "execution_count": 7,
     "metadata": {},
     "output_type": "execute_result"
    }
   ],
   "source": [
    "var2=[1,2,3,4,5,\"sudh\"]\n",
    "type(var2)"
   ]
  },
  {
   "cell_type": "code",
   "execution_count": 9,
   "id": "49d8e8b1-95f4-4b73-9ec7-23ef5b0c9e2f",
   "metadata": {},
   "outputs": [
    {
     "data": {
      "text/plain": [
       "tuple"
      ]
     },
     "execution_count": 9,
     "metadata": {},
     "output_type": "execute_result"
    }
   ],
   "source": [
    "var3=(22.5,45.0)\n",
    "type(var3)"
   ]
  },
  {
   "cell_type": "code",
   "execution_count": 10,
   "id": "d6a63f45-9161-4fa8-927e-b03df6fcc699",
   "metadata": {},
   "outputs": [
    {
     "data": {
      "text/plain": [
       "float"
      ]
     },
     "execution_count": 10,
     "metadata": {},
     "output_type": "execute_result"
    }
   ],
   "source": [
    "var4=22.5\n",
    "type(var4)"
   ]
  },
  {
   "cell_type": "code",
   "execution_count": 14,
   "id": "3dd8ff73-7e01-416a-af8c-8e54561e37dc",
   "metadata": {},
   "outputs": [],
   "source": [
    "# question 2  \n",
    "1. String \n",
    "2. String\n",
    "3. list\n",
    "4. int"
   ]
  },
  {
   "cell_type": "code",
   "execution_count": 15,
   "id": "c927dae8-36f5-43e6-a01f-8b423ba98fc2",
   "metadata": {},
   "outputs": [],
   "source": [
    "# question 3 \n",
    "1. divide \n",
    "2. modulus \n",
    "3. floor (division)\n",
    "4. power "
   ]
  },
  {
   "cell_type": "code",
   "execution_count": 16,
   "id": "ecceace4-f499-44bc-9849-74cf5e3aa7d9",
   "metadata": {},
   "outputs": [],
   "source": [
    "a=3"
   ]
  },
  {
   "cell_type": "code",
   "execution_count": 17,
   "id": "0b5d56de-e453-49bb-b0ab-5729ca2e6e47",
   "metadata": {},
   "outputs": [],
   "source": [
    "b=9"
   ]
  },
  {
   "cell_type": "code",
   "execution_count": 18,
   "id": "63fdbca0-4623-40b0-bc89-e461adadd380",
   "metadata": {},
   "outputs": [
    {
     "data": {
      "text/plain": [
       "0.3333333333333333"
      ]
     },
     "execution_count": 18,
     "metadata": {},
     "output_type": "execute_result"
    }
   ],
   "source": [
    "a/b"
   ]
  },
  {
   "cell_type": "code",
   "execution_count": 19,
   "id": "3d858484-bd21-4f88-b924-64134f5daead",
   "metadata": {},
   "outputs": [
    {
     "data": {
      "text/plain": [
       "0"
      ]
     },
     "execution_count": 19,
     "metadata": {},
     "output_type": "execute_result"
    }
   ],
   "source": [
    "b%a"
   ]
  },
  {
   "cell_type": "code",
   "execution_count": 20,
   "id": "68518482-9490-4f5b-9053-9249a25d43c3",
   "metadata": {},
   "outputs": [
    {
     "data": {
      "text/plain": [
       "3"
      ]
     },
     "execution_count": 20,
     "metadata": {},
     "output_type": "execute_result"
    }
   ],
   "source": [
    "b//a"
   ]
  },
  {
   "cell_type": "code",
   "execution_count": 21,
   "id": "92965ae6-4e32-429b-9867-c0c42e68b39d",
   "metadata": {},
   "outputs": [
    {
     "data": {
      "text/plain": [
       "729"
      ]
     },
     "execution_count": 21,
     "metadata": {},
     "output_type": "execute_result"
    }
   ],
   "source": [
    "b**a"
   ]
  },
  {
   "cell_type": "code",
   "execution_count": 22,
   "id": "7e0c1a2d-a5ac-4a30-99b5-ca5f66d6e0af",
   "metadata": {},
   "outputs": [],
   "source": [
    "# question 4 \n"
   ]
  },
  {
   "cell_type": "code",
   "execution_count": 23,
   "id": "cdbb368a-e703-43ab-ac94-d2d80b279fa2",
   "metadata": {},
   "outputs": [
    {
     "name": "stdout",
     "output_type": "stream",
     "text": [
      "1\n",
      "<class 'int'>\n",
      "2\n",
      "<class 'int'>\n",
      "3\n",
      "<class 'int'>\n",
      "4.0\n",
      "<class 'float'>\n",
      "Soumya\n",
      "<class 'str'>\n",
      "22.4\n",
      "<class 'float'>\n",
      "sudh\n",
      "<class 'str'>\n",
      "5\n",
      "<class 'int'>\n",
      "99\n",
      "<class 'int'>\n",
      "19\n",
      "<class 'int'>\n"
     ]
    }
   ],
   "source": [
    "l=[1,2,3,4.0,\"Soumya\",22.4 ,\"sudh\",5,99,19]\n",
    "for i in l:\n",
    "    print (i)\n",
    "    print (type(i))"
   ]
  },
  {
   "cell_type": "code",
   "execution_count": 24,
   "id": "dbc96719-8980-456c-bf5a-8e48a01e49c8",
   "metadata": {},
   "outputs": [],
   "source": [
    "# question 5 "
   ]
  },
  {
   "cell_type": "code",
   "execution_count": 27,
   "id": "5ac777d9-fe0d-48d7-8d0b-6faf33864335",
   "metadata": {},
   "outputs": [
    {
     "name": "stdout",
     "output_type": "stream",
     "text": [
      "The number 100 is purely divisible by 5 and can be divided 2 times\n"
     ]
    }
   ],
   "source": [
    "def count_divisions(a, b):\n",
    "    count = 0\n",
    "\n",
    "    while a % b == 0:\n",
    "        a = a // b\n",
    "        count += 1\n",
    "\n",
    "    return count\n",
    "number_a = 100\n",
    "number_b = 5\n",
    "\n",
    "divisions = count_divisions(number_a, number_b)\n",
    "if divisions > 0:\n",
    "    print(f\"The number {number_a} is purely divisible by {number_b} and can be divided {divisions} times\")\n",
    "else:\n",
    "    print(f\"The number {number_a} is not purely divisible by {number_b}\")"
   ]
  },
  {
   "cell_type": "code",
   "execution_count": 28,
   "id": "5b27e841-1279-4e98-ac71-9d2f35fd3f65",
   "metadata": {},
   "outputs": [],
   "source": [
    "# question 6 "
   ]
  },
  {
   "cell_type": "code",
   "execution_count": 29,
   "id": "0f258b44-4eee-47f3-9b27-37ba7b56a0b1",
   "metadata": {},
   "outputs": [
    {
     "name": "stdout",
     "output_type": "stream",
     "text": [
      "1 is not divisible by 3\n",
      "2 is not divisible by 3\n",
      "3 is divisible by 3\n",
      "4 is not divisible by 3\n",
      "5 is not divisible by 3\n",
      "6 is divisible by 3\n",
      "7 is not divisible by 3\n",
      "8 is not divisible by 3\n",
      "9 is divisible by 3\n",
      "11 is not divisible by 3\n",
      "14 is not divisible by 3\n",
      "13 is not divisible by 3\n",
      "44 is not divisible by 3\n",
      "23 is not divisible by 3\n",
      "24 is divisible by 3\n",
      "34 is not divisible by 3\n",
      "35 is not divisible by 3\n",
      "36 is divisible by 3\n",
      "37 is not divisible by 3\n",
      "78 is divisible by 3\n",
      "79 is not divisible by 3\n",
      "80 is not divisible by 3\n",
      "68 is not divisible by 3\n",
      "67 is not divisible by 3\n",
      "70 is not divisible by 3\n"
     ]
    }
   ],
   "source": [
    "n=[1,2,3,4,5,6,7,8,9,11,14,13,44,23,24,34,35,36,37,78,79,80,68,67,70]\n",
    "for number in n:\n",
    "    if number%3==0:\n",
    "        print(f\"{number} is divisible by 3\")\n",
    "    else:\n",
    "        print(f\"{number} is not divisible by 3\")"
   ]
  },
  {
   "cell_type": "code",
   "execution_count": 30,
   "id": "c1499868-5f2a-491c-9899-ba2f4a3a23fe",
   "metadata": {},
   "outputs": [],
   "source": [
    "# question 7 \n",
    "Mutable data types:\n",
    "    The data types whose values can be changed i.e. you can modify its value without creating a new object . It includes list , dictionaries and sets .\n",
    "    Example:\n",
    "        x=[1,2,3,\"soumya\"]\n",
    "        y={\"SUDH\",\"JOSEPH\"}\n",
    "Immutable data types:\n",
    "    The data types whose values cannot be changed i.e if you modify its value then new object will be created . It includes string , tuple , and integer\n",
    "    Example :\n",
    "        x=20\n",
    "        x=(1,2,3,\"sara\")\n",
    "    "
   ]
  },
  {
   "cell_type": "code",
   "execution_count": null,
   "id": "4238cec6-885e-4c2b-9446-0985f1504c41",
   "metadata": {},
   "outputs": [],
   "source": []
  }
 ],
 "metadata": {
  "kernelspec": {
   "display_name": "Python 3 (ipykernel)",
   "language": "python",
   "name": "python3"
  },
  "language_info": {
   "codemirror_mode": {
    "name": "ipython",
    "version": 3
   },
   "file_extension": ".py",
   "mimetype": "text/x-python",
   "name": "python",
   "nbconvert_exporter": "python",
   "pygments_lexer": "ipython3",
   "version": "3.10.8"
  }
 },
 "nbformat": 4,
 "nbformat_minor": 5
}
